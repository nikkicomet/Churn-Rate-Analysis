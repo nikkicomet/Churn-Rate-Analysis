{
 "cells": [
  {
   "cell_type": "markdown",
   "metadata": {},
   "source": [
    "Telco Customer Churn Analysis\n",
    "=========================="
   ]
  },
  {
   "cell_type": "markdown",
   "metadata": {
    "heading_collapsed": true
   },
   "source": [
    "# 1. Understanding of the Data"
   ]
  },
  {
   "cell_type": "markdown",
   "metadata": {
    "hidden": true
   },
   "source": [
    "The data is downloaded from kaggle, which is about telco customer churn analysis. The data contains information about a fictional telco company that provided home phone and Internet services to 7043 customers in California in Q3.\n",
    "\n",
    "    - Description of data:\n",
    "\n",
    "        - Demographics\n",
    "            CustomerID: A unique ID that identifies each customer.\n",
    "            Gender: The customer’s gender: Male, Female\n",
    "            Age: The customer’s current age, in years, at the time the fiscal quarter ended.\n",
    "            Senior Citizen: Indicates if the customer is 65 or older: Yes, No\n",
    "            Married: Indicates if the customer is married: Yes, No\n",
    "            Dependents: Indicates if the customer lives with any dependents: Yes, No. Dependents could be children, parents, grandparents, etc.\n",
    "            Number of Dependents: Indicates the number of dependents that live with the customer.\n",
    "\n",
    "        - Location\n",
    "            Country: The country of the customer’s primary residence.\n",
    "            State: The state of the customer’s primary residence.\n",
    "            City: The city of the customer’s primary residence.\n",
    "            Zip Code: The zip code of the customer’s primary residence.\n",
    "            Latitude: The latitude of the customer’s primary residence.\n",
    "            Longitude: The longitude of the customer’s primary residence.\n",
    "          \n",
    "        - Service\n",
    "            Tenure:Month the customer with the company\n",
    "            Phone service: Indicates if the customer subscribes to home phone service with the company: Yes, No\n",
    "            Multilines: Indicates if the customer subscribes to multiple telephone lines with the company: Yes, No\n",
    "            Internet Service: Indicates if the customer subscribes to internet service with the company: Yes, No\n",
    "            Online security: Indicates if the customer subscribes to an additional online security service provided by the company: Yes, No\n",
    "            Similar as Online protection, Tech Support, Streaming TV, Streaming movies\n",
    "            Contract: Indicates the customer’s current contract type: Month-to-Month, One Year, Two Year.\n",
    "            Paperless Billing: Indicates if the customer has chosen paperless billing: Yes, No\n",
    "            Payment Method:Indicates how the customer pays their bill: Bank Withdrawal, Credit Card, Mailed Check\n",
    "            Monthly Charges: Indicates the customer’s current total monthly charge for all their services from the company.\n",
    "            Total Charges\n",
    "            Churn Value: 1, 0 indicate whether the person has churned or not.\n",
    "            \n",
    "The total number of variables are 29. \n",
    "Now starts to import the dataset and clean the data."
   ]
  },
  {
   "cell_type": "markdown",
   "metadata": {
    "heading_collapsed": true
   },
   "source": [
    "# 2. Import & Clean dataset"
   ]
  },
  {
   "cell_type": "markdown",
   "metadata": {
    "heading_collapsed": true,
    "hidden": true
   },
   "source": [
    "## 2.1 Import dataset"
   ]
  },
  {
   "cell_type": "code",
   "execution_count": 1,
   "metadata": {
    "hidden": true
   },
   "outputs": [
    {
     "data": {
      "text/html": [
       "<div>\n",
       "<style scoped>\n",
       "    .dataframe tbody tr th:only-of-type {\n",
       "        vertical-align: middle;\n",
       "    }\n",
       "\n",
       "    .dataframe tbody tr th {\n",
       "        vertical-align: top;\n",
       "    }\n",
       "\n",
       "    .dataframe thead th {\n",
       "        text-align: right;\n",
       "    }\n",
       "</style>\n",
       "<table border=\"1\" class=\"dataframe\">\n",
       "  <thead>\n",
       "    <tr style=\"text-align: right;\">\n",
       "      <th></th>\n",
       "      <th>CustomerID</th>\n",
       "      <th>Country</th>\n",
       "      <th>State</th>\n",
       "      <th>City</th>\n",
       "      <th>Zip Code</th>\n",
       "      <th>Lat Long</th>\n",
       "      <th>Latitude</th>\n",
       "      <th>Longitude</th>\n",
       "      <th>Gender</th>\n",
       "      <th>Senior Citizen</th>\n",
       "      <th>...</th>\n",
       "      <th>Streaming Movies</th>\n",
       "      <th>Contract</th>\n",
       "      <th>Paperless Billing</th>\n",
       "      <th>Payment Method</th>\n",
       "      <th>Monthly Charges</th>\n",
       "      <th>Total Charges</th>\n",
       "      <th>Churn Label</th>\n",
       "      <th>Churn Value</th>\n",
       "      <th>Churn Score</th>\n",
       "      <th>Churn Reason</th>\n",
       "    </tr>\n",
       "  </thead>\n",
       "  <tbody>\n",
       "    <tr>\n",
       "      <th>0</th>\n",
       "      <td>3668-QPYBK</td>\n",
       "      <td>United States</td>\n",
       "      <td>California</td>\n",
       "      <td>Los Angeles</td>\n",
       "      <td>90003</td>\n",
       "      <td>33.964131, -118.272783</td>\n",
       "      <td>33.964131</td>\n",
       "      <td>-118.272783</td>\n",
       "      <td>Male</td>\n",
       "      <td>No</td>\n",
       "      <td>...</td>\n",
       "      <td>No</td>\n",
       "      <td>Month-to-month</td>\n",
       "      <td>Yes</td>\n",
       "      <td>Mailed check</td>\n",
       "      <td>53.85</td>\n",
       "      <td>108.15</td>\n",
       "      <td>Yes</td>\n",
       "      <td>1</td>\n",
       "      <td>86</td>\n",
       "      <td>Competitor made better offer</td>\n",
       "    </tr>\n",
       "    <tr>\n",
       "      <th>1</th>\n",
       "      <td>9237-HQITU</td>\n",
       "      <td>United States</td>\n",
       "      <td>California</td>\n",
       "      <td>Los Angeles</td>\n",
       "      <td>90005</td>\n",
       "      <td>34.059281, -118.30742</td>\n",
       "      <td>34.059281</td>\n",
       "      <td>-118.307420</td>\n",
       "      <td>Female</td>\n",
       "      <td>No</td>\n",
       "      <td>...</td>\n",
       "      <td>No</td>\n",
       "      <td>Month-to-month</td>\n",
       "      <td>Yes</td>\n",
       "      <td>Electronic check</td>\n",
       "      <td>70.70</td>\n",
       "      <td>151.65</td>\n",
       "      <td>Yes</td>\n",
       "      <td>1</td>\n",
       "      <td>67</td>\n",
       "      <td>Moved</td>\n",
       "    </tr>\n",
       "    <tr>\n",
       "      <th>2</th>\n",
       "      <td>9305-CDSKC</td>\n",
       "      <td>United States</td>\n",
       "      <td>California</td>\n",
       "      <td>Los Angeles</td>\n",
       "      <td>90006</td>\n",
       "      <td>34.048013, -118.293953</td>\n",
       "      <td>34.048013</td>\n",
       "      <td>-118.293953</td>\n",
       "      <td>Female</td>\n",
       "      <td>No</td>\n",
       "      <td>...</td>\n",
       "      <td>Yes</td>\n",
       "      <td>Month-to-month</td>\n",
       "      <td>Yes</td>\n",
       "      <td>Electronic check</td>\n",
       "      <td>99.65</td>\n",
       "      <td>820.5</td>\n",
       "      <td>Yes</td>\n",
       "      <td>1</td>\n",
       "      <td>86</td>\n",
       "      <td>Moved</td>\n",
       "    </tr>\n",
       "    <tr>\n",
       "      <th>3</th>\n",
       "      <td>7892-POOKP</td>\n",
       "      <td>United States</td>\n",
       "      <td>California</td>\n",
       "      <td>Los Angeles</td>\n",
       "      <td>90010</td>\n",
       "      <td>34.062125, -118.315709</td>\n",
       "      <td>34.062125</td>\n",
       "      <td>-118.315709</td>\n",
       "      <td>Female</td>\n",
       "      <td>No</td>\n",
       "      <td>...</td>\n",
       "      <td>Yes</td>\n",
       "      <td>Month-to-month</td>\n",
       "      <td>Yes</td>\n",
       "      <td>Electronic check</td>\n",
       "      <td>104.80</td>\n",
       "      <td>3046.05</td>\n",
       "      <td>Yes</td>\n",
       "      <td>1</td>\n",
       "      <td>84</td>\n",
       "      <td>Moved</td>\n",
       "    </tr>\n",
       "    <tr>\n",
       "      <th>4</th>\n",
       "      <td>0280-XJGEX</td>\n",
       "      <td>United States</td>\n",
       "      <td>California</td>\n",
       "      <td>Los Angeles</td>\n",
       "      <td>90015</td>\n",
       "      <td>34.039224, -118.266293</td>\n",
       "      <td>34.039224</td>\n",
       "      <td>-118.266293</td>\n",
       "      <td>Male</td>\n",
       "      <td>No</td>\n",
       "      <td>...</td>\n",
       "      <td>Yes</td>\n",
       "      <td>Month-to-month</td>\n",
       "      <td>Yes</td>\n",
       "      <td>Bank transfer (automatic)</td>\n",
       "      <td>103.70</td>\n",
       "      <td>5036.3</td>\n",
       "      <td>Yes</td>\n",
       "      <td>1</td>\n",
       "      <td>89</td>\n",
       "      <td>Competitor had better devices</td>\n",
       "    </tr>\n",
       "  </tbody>\n",
       "</table>\n",
       "<p>5 rows × 31 columns</p>\n",
       "</div>"
      ],
      "text/plain": [
       "   CustomerID        Country       State         City  Zip Code  \\\n",
       "0  3668-QPYBK  United States  California  Los Angeles     90003   \n",
       "1  9237-HQITU  United States  California  Los Angeles     90005   \n",
       "2  9305-CDSKC  United States  California  Los Angeles     90006   \n",
       "3  7892-POOKP  United States  California  Los Angeles     90010   \n",
       "4  0280-XJGEX  United States  California  Los Angeles     90015   \n",
       "\n",
       "                 Lat Long   Latitude   Longitude  Gender Senior Citizen  ...  \\\n",
       "0  33.964131, -118.272783  33.964131 -118.272783    Male             No  ...   \n",
       "1   34.059281, -118.30742  34.059281 -118.307420  Female             No  ...   \n",
       "2  34.048013, -118.293953  34.048013 -118.293953  Female             No  ...   \n",
       "3  34.062125, -118.315709  34.062125 -118.315709  Female             No  ...   \n",
       "4  34.039224, -118.266293  34.039224 -118.266293    Male             No  ...   \n",
       "\n",
       "  Streaming Movies        Contract  Paperless Billing  \\\n",
       "0               No  Month-to-month                Yes   \n",
       "1               No  Month-to-month                Yes   \n",
       "2              Yes  Month-to-month                Yes   \n",
       "3              Yes  Month-to-month                Yes   \n",
       "4              Yes  Month-to-month                Yes   \n",
       "\n",
       "              Payment Method Monthly Charges Total Charges Churn Label  \\\n",
       "0               Mailed check           53.85        108.15         Yes   \n",
       "1           Electronic check           70.70        151.65         Yes   \n",
       "2           Electronic check           99.65         820.5         Yes   \n",
       "3           Electronic check          104.80       3046.05         Yes   \n",
       "4  Bank transfer (automatic)          103.70        5036.3         Yes   \n",
       "\n",
       "  Churn Value Churn Score                   Churn Reason  \n",
       "0           1          86   Competitor made better offer  \n",
       "1           1          67                          Moved  \n",
       "2           1          86                          Moved  \n",
       "3           1          84                          Moved  \n",
       "4           1          89  Competitor had better devices  \n",
       "\n",
       "[5 rows x 31 columns]"
      ]
     },
     "execution_count": 1,
     "metadata": {},
     "output_type": "execute_result"
    }
   ],
   "source": [
    "import pandas as pd\n",
    "import numpy as np\n",
    "from statsmodels.stats.proportion import proportions_ztest\n",
    "\n",
    "churn_data = pd.read_csv(r'..\\Desktop\\Telco_customer_churn.csv')\n",
    "churn_data.head()"
   ]
  },
  {
   "cell_type": "markdown",
   "metadata": {
    "heading_collapsed": true,
    "hidden": true
   },
   "source": [
    "## 2.2 Drop Columns"
   ]
  },
  {
   "cell_type": "code",
   "execution_count": 2,
   "metadata": {
    "hidden": true
   },
   "outputs": [],
   "source": [
    "churn_data.drop(\"Churn Label\", axis=1, inplace=True)\n",
    "churn_data.drop(\"Churn Score\", axis=1, inplace=True)"
   ]
  },
  {
   "cell_type": "markdown",
   "metadata": {
    "heading_collapsed": true,
    "hidden": true
   },
   "source": [
    "## 2.3 Check null data"
   ]
  },
  {
   "cell_type": "markdown",
   "metadata": {
    "hidden": true
   },
   "source": [
    "**Check:**"
   ]
  },
  {
   "cell_type": "code",
   "execution_count": 3,
   "metadata": {
    "hidden": true
   },
   "outputs": [
    {
     "data": {
      "text/html": [
       "<div>\n",
       "<style scoped>\n",
       "    .dataframe tbody tr th:only-of-type {\n",
       "        vertical-align: middle;\n",
       "    }\n",
       "\n",
       "    .dataframe tbody tr th {\n",
       "        vertical-align: top;\n",
       "    }\n",
       "\n",
       "    .dataframe thead th {\n",
       "        text-align: right;\n",
       "    }\n",
       "</style>\n",
       "<table border=\"1\" class=\"dataframe\">\n",
       "  <thead>\n",
       "    <tr style=\"text-align: right;\">\n",
       "      <th></th>\n",
       "      <th>Any N/A</th>\n",
       "    </tr>\n",
       "  </thead>\n",
       "  <tbody>\n",
       "    <tr>\n",
       "      <th>Churn Reason</th>\n",
       "      <td>False</td>\n",
       "    </tr>\n",
       "  </tbody>\n",
       "</table>\n",
       "</div>"
      ],
      "text/plain": [
       "              Any N/A\n",
       "Churn Reason    False"
      ]
     },
     "execution_count": 3,
     "metadata": {},
     "output_type": "execute_result"
    }
   ],
   "source": [
    "missing_data = churn_data.isnull()\n",
    "missing_data = pd.DataFrame((~missing_data).all(), columns=['Any N/A'])\n",
    "missing_data[~missing_data['Any N/A']]"
   ]
  },
  {
   "cell_type": "markdown",
   "metadata": {
    "hidden": true
   },
   "source": [
    "I found out that total charge is object. Convert into float64 to see if there is a missing data."
   ]
  },
  {
   "cell_type": "code",
   "execution_count": 4,
   "metadata": {
    "code_folding": [],
    "hidden": true
   },
   "outputs": [],
   "source": [
    "churn_data['Total Charges'] = pd.to_numeric(churn_data['Total Charges'],\n",
    "                                            errors='coerce')"
   ]
  },
  {
   "cell_type": "code",
   "execution_count": 5,
   "metadata": {
    "hidden": true
   },
   "outputs": [
    {
     "name": "stdout",
     "output_type": "stream",
     "text": [
      "<class 'pandas.core.frame.DataFrame'>\n",
      "RangeIndex: 7043 entries, 0 to 7042\n",
      "Data columns (total 29 columns):\n",
      " #   Column             Non-Null Count  Dtype  \n",
      "---  ------             --------------  -----  \n",
      " 0   CustomerID         7043 non-null   object \n",
      " 1   Country            7043 non-null   object \n",
      " 2   State              7043 non-null   object \n",
      " 3   City               7043 non-null   object \n",
      " 4   Zip Code           7043 non-null   int64  \n",
      " 5   Lat Long           7043 non-null   object \n",
      " 6   Latitude           7043 non-null   float64\n",
      " 7   Longitude          7043 non-null   float64\n",
      " 8   Gender             7043 non-null   object \n",
      " 9   Senior Citizen     7043 non-null   object \n",
      " 10  Partner            7043 non-null   object \n",
      " 11  Dependents         7043 non-null   object \n",
      " 12  Tenure Months      7043 non-null   int64  \n",
      " 13  Phone Service      7043 non-null   object \n",
      " 14  Multiple Lines     7043 non-null   object \n",
      " 15  Internet Service   7043 non-null   object \n",
      " 16  Online Security    7043 non-null   object \n",
      " 17  Online Backup      7043 non-null   object \n",
      " 18  Device Protection  7043 non-null   object \n",
      " 19  Tech Support       7043 non-null   object \n",
      " 20  Streaming TV       7043 non-null   object \n",
      " 21  Streaming Movies   7043 non-null   object \n",
      " 22  Contract           7043 non-null   object \n",
      " 23  Paperless Billing  7043 non-null   object \n",
      " 24  Payment Method     7043 non-null   object \n",
      " 25  Monthly Charges    7043 non-null   float64\n",
      " 26  Total Charges      7032 non-null   float64\n",
      " 27  Churn Value        7043 non-null   int64  \n",
      " 28  Churn Reason       1869 non-null   object \n",
      "dtypes: float64(4), int64(3), object(22)\n",
      "memory usage: 1.6+ MB\n"
     ]
    }
   ],
   "source": [
    "churn_data.info()"
   ]
  },
  {
   "cell_type": "markdown",
   "metadata": {
    "hidden": true
   },
   "source": [
    "There exists missing value in total charges. I want to see if total charge is ok to replace with 0."
   ]
  },
  {
   "cell_type": "code",
   "execution_count": 6,
   "metadata": {
    "hidden": true
   },
   "outputs": [
    {
     "data": {
      "text/plain": [
       "2234    0\n",
       "2438    0\n",
       "2568    0\n",
       "2667    0\n",
       "2856    0\n",
       "4331    0\n",
       "4687    0\n",
       "5104    0\n",
       "5719    0\n",
       "6772    0\n",
       "6840    0\n",
       "Name: Tenure Months, dtype: int64"
      ]
     },
     "execution_count": 6,
     "metadata": {},
     "output_type": "execute_result"
    }
   ],
   "source": [
    "churn_data[churn_data['Total Charges'].isnull()]['Tenure Months']"
   ]
  },
  {
   "cell_type": "markdown",
   "metadata": {
    "hidden": true
   },
   "source": [
    "Therefore, it is ok to replace the null with 0. I also investigate into the original document, and there is a space in the cell, for which we cannot detect when the data type is incorrect.\n",
    "\n",
    "**Replace:**"
   ]
  },
  {
   "cell_type": "code",
   "execution_count": 7,
   "metadata": {
    "hidden": true
   },
   "outputs": [],
   "source": [
    "churn_data['Total Charges'].replace(np.nan, 0, inplace=True)"
   ]
  },
  {
   "cell_type": "markdown",
   "metadata": {
    "hidden": true
   },
   "source": [
    "Now the total charges is the right form and no missing data in total charges."
   ]
  },
  {
   "cell_type": "markdown",
   "metadata": {
    "heading_collapsed": true,
    "hidden": true
   },
   "source": [
    "## 2.4 Check duplicates"
   ]
  },
  {
   "cell_type": "code",
   "execution_count": 8,
   "metadata": {
    "hidden": true
   },
   "outputs": [
    {
     "data": {
      "text/plain": [
       "False    7043\n",
       "Name: CustomerID, dtype: int64"
      ]
     },
     "execution_count": 8,
     "metadata": {},
     "output_type": "execute_result"
    }
   ],
   "source": [
    "duplicates = churn_data['CustomerID'].duplicated()\n",
    "duplicates.value_counts()"
   ]
  },
  {
   "cell_type": "markdown",
   "metadata": {
    "heading_collapsed": true,
    "hidden": true
   },
   "source": [
    "## 2.5 Convert Data Type"
   ]
  },
  {
   "cell_type": "markdown",
   "metadata": {
    "heading_collapsed": true,
    "hidden": true
   },
   "source": [
    "### 2.5.1 Dummies"
   ]
  },
  {
   "cell_type": "markdown",
   "metadata": {
    "hidden": true
   },
   "source": [
    "Several variables should convert into dummies:\n",
    "- Senior Citizen\n",
    "- Gender\n",
    "- Partner\n",
    "- Dependents\n",
    "- Phone Service\n",
    "- Multiple Lines\n",
    "- Online Security\n",
    "- Online Backup\n",
    "- Device Protection\n",
    "- Tech Support\n",
    "- Streaming TV\n",
    "- Streaming Movies\n",
    "- Paperless Billing"
   ]
  },
  {
   "cell_type": "code",
   "execution_count": 9,
   "metadata": {
    "hidden": true
   },
   "outputs": [],
   "source": [
    "churn_data['Senior Citizen'] = np.where(churn_data['Senior Citizen'] == 'Yes',\n",
    "                                        1, 0)"
   ]
  },
  {
   "cell_type": "code",
   "execution_count": 10,
   "metadata": {
    "hidden": true
   },
   "outputs": [],
   "source": [
    "churn_data['Gender'] = np.where(churn_data['Gender'] == 'Male', 1, 0)"
   ]
  },
  {
   "cell_type": "code",
   "execution_count": 11,
   "metadata": {
    "hidden": true
   },
   "outputs": [],
   "source": [
    "churn_data['Partner'] = np.where(churn_data['Partner'] == 'Yes', 1, 0)"
   ]
  },
  {
   "cell_type": "code",
   "execution_count": 12,
   "metadata": {
    "hidden": true
   },
   "outputs": [],
   "source": [
    "churn_data['Dependents'] = np.where(churn_data['Dependents'] == 'Yes', 1, 0)"
   ]
  },
  {
   "cell_type": "code",
   "execution_count": 13,
   "metadata": {
    "hidden": true
   },
   "outputs": [],
   "source": [
    "churn_data['Phone Service'] = np.where(churn_data['Phone Service'] == 'Yes', 1,\n",
    "                                       0)"
   ]
  },
  {
   "cell_type": "code",
   "execution_count": 14,
   "metadata": {
    "hidden": true
   },
   "outputs": [],
   "source": [
    "churn_data['Multiple Lines'] = np.where(churn_data['Multiple Lines'] == 'Yes',\n",
    "                                        1, 0)"
   ]
  },
  {
   "cell_type": "code",
   "execution_count": 15,
   "metadata": {
    "hidden": true
   },
   "outputs": [],
   "source": [
    "churn_data['Online Security'] = np.where(\n",
    "    churn_data['Online Security'] == 'Yes', 1, 0)"
   ]
  },
  {
   "cell_type": "code",
   "execution_count": 16,
   "metadata": {
    "hidden": true
   },
   "outputs": [],
   "source": [
    "churn_data['Online Backup'] = np.where(churn_data['Online Backup'] == 'Yes', 1,\n",
    "                                       0)"
   ]
  },
  {
   "cell_type": "code",
   "execution_count": 17,
   "metadata": {
    "hidden": true
   },
   "outputs": [],
   "source": [
    "churn_data['Device Protection'] = np.where(\n",
    "    churn_data['Device Protection'] == 'Yes', 1, 0)"
   ]
  },
  {
   "cell_type": "code",
   "execution_count": 18,
   "metadata": {
    "hidden": true
   },
   "outputs": [],
   "source": [
    "churn_data['Tech Support'] = np.where(churn_data['Tech Support'] == 'Yes', 1,\n",
    "                                      0)"
   ]
  },
  {
   "cell_type": "code",
   "execution_count": 19,
   "metadata": {
    "hidden": true
   },
   "outputs": [],
   "source": [
    "churn_data['Streaming TV'] = np.where(churn_data['Streaming TV'] == 'Yes', 1,\n",
    "                                      0)"
   ]
  },
  {
   "cell_type": "code",
   "execution_count": 20,
   "metadata": {
    "hidden": true
   },
   "outputs": [],
   "source": [
    "churn_data['Streaming Movies'] = np.where(\n",
    "    churn_data['Streaming Movies'] == 'Yes', 1, 0)"
   ]
  },
  {
   "cell_type": "code",
   "execution_count": 21,
   "metadata": {
    "hidden": true
   },
   "outputs": [],
   "source": [
    "churn_data['Paperless Billing'] = np.where(\n",
    "    churn_data['Paperless Billing'] == 'Yes', 1, 0)"
   ]
  },
  {
   "cell_type": "markdown",
   "metadata": {
    "heading_collapsed": true,
    "hidden": true
   },
   "source": [
    "### 2.5.2 Categorical Data"
   ]
  },
  {
   "cell_type": "markdown",
   "metadata": {
    "hidden": true
   },
   "source": [
    "- Contract\n",
    "- Payment Method\n",
    "\n",
    "**Contract**"
   ]
  },
  {
   "cell_type": "code",
   "execution_count": 22,
   "metadata": {
    "hidden": true
   },
   "outputs": [
    {
     "data": {
      "text/plain": [
       "array(['Month-to-month', 'Two year', 'One year'], dtype=object)"
      ]
     },
     "execution_count": 22,
     "metadata": {},
     "output_type": "execute_result"
    }
   ],
   "source": [
    "churn_data['Contract'].unique()"
   ]
  },
  {
   "cell_type": "code",
   "execution_count": 23,
   "metadata": {
    "hidden": true
   },
   "outputs": [],
   "source": [
    "churn_data['Contract'] = churn_data['Contract'].astype('category')"
   ]
  },
  {
   "cell_type": "markdown",
   "metadata": {
    "hidden": true
   },
   "source": [
    "**Internet Service**"
   ]
  },
  {
   "cell_type": "code",
   "execution_count": 24,
   "metadata": {
    "hidden": true
   },
   "outputs": [
    {
     "data": {
      "text/plain": [
       "array(['DSL', 'Fiber optic', 'No'], dtype=object)"
      ]
     },
     "execution_count": 24,
     "metadata": {},
     "output_type": "execute_result"
    }
   ],
   "source": [
    "churn_data['Internet Service'].unique()"
   ]
  },
  {
   "cell_type": "code",
   "execution_count": 25,
   "metadata": {
    "hidden": true
   },
   "outputs": [],
   "source": [
    "churn_data['Internet Service'] = churn_data['Internet Service'].astype(\n",
    "    'category')"
   ]
  },
  {
   "cell_type": "markdown",
   "metadata": {
    "hidden": true
   },
   "source": [
    "**Payment Method**"
   ]
  },
  {
   "cell_type": "code",
   "execution_count": 26,
   "metadata": {
    "hidden": true
   },
   "outputs": [
    {
     "data": {
      "text/plain": [
       "array(['Mailed check', 'Electronic check', 'Bank transfer (automatic)',\n",
       "       'Credit card (automatic)'], dtype=object)"
      ]
     },
     "execution_count": 26,
     "metadata": {},
     "output_type": "execute_result"
    }
   ],
   "source": [
    "churn_data['Payment Method'].unique()"
   ]
  },
  {
   "cell_type": "code",
   "execution_count": 27,
   "metadata": {
    "hidden": true
   },
   "outputs": [],
   "source": [
    "churn_data['Payment Method'] = churn_data['Payment Method'].astype('category')"
   ]
  },
  {
   "cell_type": "markdown",
   "metadata": {
    "heading_collapsed": true,
    "hidden": true
   },
   "source": [
    "### 2.5.3 Bins"
   ]
  },
  {
   "cell_type": "markdown",
   "metadata": {
    "hidden": true
   },
   "source": [
    "- Monthly Charges\n",
    "- Total Charges\n",
    "- Tenure Month\n",
    "\n",
    "**Monthly Charges:**"
   ]
  },
  {
   "cell_type": "code",
   "execution_count": 28,
   "metadata": {
    "hidden": true
   },
   "outputs": [],
   "source": [
    "churn_data['MonthlyChargesBinned'] = pd.qcut(churn_data['Monthly Charges'], 4)"
   ]
  },
  {
   "cell_type": "markdown",
   "metadata": {
    "hidden": true
   },
   "source": [
    "**Total Charges:**\n",
    "\n",
    "We can investigate into total charges or total average charges. Which one makes more sense? However, we can first binned those possible variables.\n",
    "\n",
    "    - Total charges: this could be highly related with tenure month and monthly charges.\n",
    "    - Average monthly charges:this could be similar with monthly charges."
   ]
  },
  {
   "cell_type": "code",
   "execution_count": 29,
   "metadata": {
    "hidden": true
   },
   "outputs": [],
   "source": [
    "churn_data['TotalChargesBinned'] = pd.qcut(churn_data['Total Charges'], 4)"
   ]
  },
  {
   "cell_type": "code",
   "execution_count": 30,
   "metadata": {
    "hidden": true
   },
   "outputs": [],
   "source": [
    "churn_data['AverageChargesBinned'] = pd.qcut(\n",
    "    (churn_data['Total Charges'] / np.where(\n",
    "        churn_data['Tenure Months'] == 0, 1, churn_data['Tenure Months'])), 4)"
   ]
  },
  {
   "cell_type": "markdown",
   "metadata": {
    "hidden": true
   },
   "source": [
    "**Tenure Months**"
   ]
  },
  {
   "cell_type": "code",
   "execution_count": 31,
   "metadata": {
    "hidden": true
   },
   "outputs": [],
   "source": [
    "churn_data['TenureMonthsBinned'] = pd.qcut(churn_data['Tenure Months'], 4)"
   ]
  },
  {
   "cell_type": "markdown",
   "metadata": {
    "hidden": true
   },
   "source": [
    "**-------------------------------------------------Dataset cleaning is finished.-----------------------------------------**\n",
    "\n",
    "**Show data info:**"
   ]
  },
  {
   "cell_type": "code",
   "execution_count": 32,
   "metadata": {
    "hidden": true
   },
   "outputs": [
    {
     "name": "stdout",
     "output_type": "stream",
     "text": [
      "<class 'pandas.core.frame.DataFrame'>\n",
      "RangeIndex: 7043 entries, 0 to 7042\n",
      "Data columns (total 33 columns):\n",
      " #   Column                Non-Null Count  Dtype   \n",
      "---  ------                --------------  -----   \n",
      " 0   CustomerID            7043 non-null   object  \n",
      " 1   Country               7043 non-null   object  \n",
      " 2   State                 7043 non-null   object  \n",
      " 3   City                  7043 non-null   object  \n",
      " 4   Zip Code              7043 non-null   int64   \n",
      " 5   Lat Long              7043 non-null   object  \n",
      " 6   Latitude              7043 non-null   float64 \n",
      " 7   Longitude             7043 non-null   float64 \n",
      " 8   Gender                7043 non-null   int32   \n",
      " 9   Senior Citizen        7043 non-null   int32   \n",
      " 10  Partner               7043 non-null   int32   \n",
      " 11  Dependents            7043 non-null   int32   \n",
      " 12  Tenure Months         7043 non-null   int64   \n",
      " 13  Phone Service         7043 non-null   int32   \n",
      " 14  Multiple Lines        7043 non-null   int32   \n",
      " 15  Internet Service      7043 non-null   category\n",
      " 16  Online Security       7043 non-null   int32   \n",
      " 17  Online Backup         7043 non-null   int32   \n",
      " 18  Device Protection     7043 non-null   int32   \n",
      " 19  Tech Support          7043 non-null   int32   \n",
      " 20  Streaming TV          7043 non-null   int32   \n",
      " 21  Streaming Movies      7043 non-null   int32   \n",
      " 22  Contract              7043 non-null   category\n",
      " 23  Paperless Billing     7043 non-null   int32   \n",
      " 24  Payment Method        7043 non-null   category\n",
      " 25  Monthly Charges       7043 non-null   float64 \n",
      " 26  Total Charges         7043 non-null   float64 \n",
      " 27  Churn Value           7043 non-null   int64   \n",
      " 28  Churn Reason          1869 non-null   object  \n",
      " 29  MonthlyChargesBinned  7043 non-null   category\n",
      " 30  TotalChargesBinned    7043 non-null   category\n",
      " 31  AverageChargesBinned  7043 non-null   category\n",
      " 32  TenureMonthsBinned    7043 non-null   category\n",
      "dtypes: category(7), float64(4), int32(13), int64(3), object(6)\n",
      "memory usage: 1.1+ MB\n"
     ]
    }
   ],
   "source": [
    "churn_data.info()"
   ]
  },
  {
   "cell_type": "markdown",
   "metadata": {
    "hidden": true
   },
   "source": [
    "**---------------------------------------------------------------------section end-------------------------------------------------------------------**"
   ]
  },
  {
   "cell_type": "markdown",
   "metadata": {},
   "source": [
    "# 3. Data EDAs"
   ]
  },
  {
   "cell_type": "markdown",
   "metadata": {
    "heading_collapsed": true
   },
   "source": [
    "## 3.1 Overall Churn Plot"
   ]
  },
  {
   "cell_type": "code",
   "execution_count": 33,
   "metadata": {
    "hidden": true
   },
   "outputs": [],
   "source": [
    "import matplotlib.pyplot as plt\n",
    "import seaborn as sns"
   ]
  },
  {
   "cell_type": "code",
   "execution_count": 34,
   "metadata": {
    "hidden": true
   },
   "outputs": [],
   "source": [
    "churn_yes = churn_data['Churn Value'].value_counts()[1]\n",
    "churn_no = churn_data['Churn Value'].value_counts()[0]\n",
    "churn_yes_per = churn_yes / churn_data.shape[0] * 100\n",
    "churn_no_per = churn_no / churn_data.shape[0] * 100"
   ]
  },
  {
   "cell_type": "code",
   "execution_count": 35,
   "metadata": {
    "hidden": true
   },
   "outputs": [
    {
     "data": {
      "text/plain": [
       "Text(0.5, 1.05, 'Customer Churn Distribution')"
      ]
     },
     "execution_count": 35,
     "metadata": {},
     "output_type": "execute_result"
    },
    {
     "data": {
      "image/png": "[encoded data removed]",
      "text/plain": [
       "<Figure size 432x288 with 1 Axes>"
      ]
     },
     "metadata": {
      "needs_background": "light"
     },
     "output_type": "display_data"
    }
   ],
   "source": [
    "labels, counts = np.unique(churn_data['Churn Value'], return_counts=True)\n",
    "plt.bar(x=labels, height=counts, align='center', color=['Blue', 'orange'])\n",
    "plt.xlim(-1, 2)\n",
    "plt.xticks((1, 0),\n",
    "           [f'Yes ({churn_yes_per:.2f}%)', f'No ({churn_no_per:.2f}%)'])\n",
    "plt.title('Customer Churn Distribution', size=15, y=1.05)"
   ]
  },
  {
   "cell_type": "code",
   "execution_count": 36,
   "metadata": {
    "hidden": true
   },
   "outputs": [
    {
     "name": "stdout",
     "output_type": "stream",
     "text": [
      "According to the graph above, the churn rate is about 26.54% last month. There are 1869 people fail to keep subscribe our service.\n"
     ]
    }
   ],
   "source": [
    "print(\n",
    "    f'According to the graph above, the churn rate is about 26.54% last month. There are {churn_yes} people fail to keep subscribe our service.'\n",
    ")"
   ]
  },
  {
   "cell_type": "markdown",
   "metadata": {
    "heading_collapsed": true
   },
   "source": [
    "## 3.2 Demographic Analysis"
   ]
  },
  {
   "cell_type": "markdown",
   "metadata": {
    "hidden": true
   },
   "source": [
    "This session includes gender, age,dependent, marriage, and interactive data analysis."
   ]
  },
  {
   "cell_type": "markdown",
   "metadata": {
    "heading_collapsed": true,
    "hidden": true
   },
   "source": [
    "### 3.2.1 Gender analysis"
   ]
  },
  {
   "cell_type": "markdown",
   "metadata": {
    "hidden": true
   },
   "source": [
    "**Gender Number Output**"
   ]
  },
  {
   "cell_type": "code",
   "execution_count": 37,
   "metadata": {
    "hidden": true
   },
   "outputs": [],
   "source": [
    "churn_count = churn_data.groupby(by=['Gender'])['Churn Value'].value_counts()\n",
    "female_no_churn, female_churn, male_no_churn, male_churn = churn_count\n",
    "\n",
    "female_churn_rate, male_churn_rate = churn_data.groupby(\n",
    "    by=['Gender'])['Churn Value'].value_counts(normalize=True)[:, 1]"
   ]
  },
  {
   "cell_type": "markdown",
   "metadata": {
    "hidden": true
   },
   "source": [
    "**Visulization**"
   ]
  },
  {
   "cell_type": "code",
   "execution_count": 38,
   "metadata": {
    "hidden": true
   },
   "outputs": [
    {
     "data": {
      "text/plain": [
       "[Text(0, 0, '3488'), Text(0, 0, '3555')]"
      ]
     },
     "execution_count": 38,
     "metadata": {},
     "output_type": "execute_result"
    },
    {
     "data": {
      "image/png": "[encoded data removed]",
      "text/plain": [
       "<Figure size 432x288 with 1 Axes>"
      ]
     },
     "metadata": {
      "needs_background": "light"
     },
     "output_type": "display_data"
    }
   ],
   "source": [
    "fig, ax = plt.subplots()\n",
    "\n",
    "p1 = ax.bar(x=['Female', 'Male'],\n",
    "            height=[female_churn, male_churn],\n",
    "            width=0.5,\n",
    "            color='orange')\n",
    "p2 = ax.bar(x=['Female', 'Male'],\n",
    "            height=[female_no_churn, male_no_churn],\n",
    "            bottom=[female_churn, male_churn],\n",
    "            width=0.5)\n",
    "\n",
    "ax.set_ylabel('Churn Numbers')\n",
    "ax.set_title('Churn Number by Gender')\n",
    "plt.xticks((0, 1), [\n",
    "    f'Female, Churn Rates: ({female_churn_rate:.2f})',\n",
    "    f'Male, Churn Rates: ({male_churn_rate:.2f})'\n",
    "])\n",
    "ax.legend(['No Churn', 'Churn'])\n",
    "\n",
    "ax.bar_label(p1, label_type='center')\n",
    "ax.bar_label(p2, label_type='center')\n",
    "ax.bar_label(p2)"
   ]
  },
  {
   "cell_type": "code",
   "execution_count": 39,
   "metadata": {
    "hidden": true
   },
   "outputs": [
    {
     "name": "stdout",
     "output_type": "stream",
     "text": [
      "Female churn rate and male churn rate seem not to have much big differences.\n",
      "Female churn rate: 0.269; male churn rate: 0.262\n"
     ]
    }
   ],
   "source": [
    "print(\n",
    "    'Female churn rate and male churn rate seem not to have much big differences.'\n",
    ")\n",
    "print(\n",
    "    f'Female churn rate: {female_churn_rate:.3f}; male churn rate: {male_churn_rate:.3f}'\n",
    ")"
   ]
  },
  {
   "cell_type": "markdown",
   "metadata": {
    "hidden": true
   },
   "source": [
    "**Proportion Tests**"
   ]
  },
  {
   "cell_type": "code",
   "execution_count": 40,
   "metadata": {
    "hidden": true
   },
   "outputs": [
    {
     "name": "stdout",
     "output_type": "stream",
     "text": [
      "0.470\n"
     ]
    }
   ],
   "source": [
    "stat, pval = proportions_ztest(churn_count[:, 0],\n",
    "                               churn_count.groupby(level=0).sum())\n",
    "print(f'{pval:0.3f}')"
   ]
  },
  {
   "cell_type": "markdown",
   "metadata": {
    "hidden": true
   },
   "source": [
    "We are confident to reject alternative hypothesis. There is no difference between churn rates of different genders."
   ]
  },
  {
   "cell_type": "markdown",
   "metadata": {
    "heading_collapsed": true,
    "hidden": true
   },
   "source": [
    "### 3.2.2 Age Analysis"
   ]
  },
  {
   "cell_type": "markdown",
   "metadata": {
    "hidden": true
   },
   "source": [
    "**Age Number Output**"
   ]
  },
  {
   "cell_type": "code",
   "execution_count": 41,
   "metadata": {
    "hidden": true
   },
   "outputs": [],
   "source": [
    "age_count = churn_data.groupby(\n",
    "    by=['Senior Citizen'])['Churn Value'].value_counts()\n",
    "under60_no_churn, under60_churn, above60_no_churn, above60_churn = age_count\n",
    "\n",
    "under60_churn_rate, above60_churn_rate = churn_data.groupby(\n",
    "    by=['Senior Citizen'])['Churn Value'].value_counts(normalize=True)[:, 1]"
   ]
  },
  {
   "cell_type": "markdown",
   "metadata": {
    "hidden": true
   },
   "source": [
    "**Visulization**"
   ]
  },
  {
   "cell_type": "code",
   "execution_count": 42,
   "metadata": {
    "hidden": true
   },
   "outputs": [
    {
     "data": {
      "text/plain": [
       "[Text(0, 0, '1142'), Text(0, 0, '5901')]"
      ]
     },
     "execution_count": 42,
     "metadata": {},
     "output_type": "execute_result"
    },
    {
     "data": {
      "image/png": "[encoded data removed]",
      "text/plain": [
       "<Figure size 432x288 with 1 Axes>"
      ]
     },
     "metadata": {
      "needs_background": "light"
     },
     "output_type": "display_data"
    }
   ],
   "source": [
    "fig, ax = plt.subplots()\n",
    "\n",
    "p1 = ax.bar(x=['Above60', 'Under60'],\n",
    "            height=[above60_churn, under60_churn],\n",
    "            width=0.5,\n",
    "            color='orange')\n",
    "p2 = ax.bar(x=['Above60', 'Under60'],\n",
    "            height=[above60_no_churn, under60_no_churn],\n",
    "            bottom=[above60_churn, under60_churn],\n",
    "            width=0.5)\n",
    "\n",
    "ax.set_ylabel('Churn Numbers')\n",
    "ax.set_title('Churn Number by Age')\n",
    "plt.xticks((0, 1), [\n",
    "    f'Under60, Churn Rates: ({under60_churn_rate:.2f})',\n",
    "    f'Above60, Churn Rates: ({above60_churn_rate:.2f})'\n",
    "])\n",
    "ax.legend(['No Churn', 'Churn'])\n",
    "\n",
    "ax.bar_label(p1, label_type='center')\n",
    "ax.bar_label(p2, label_type='center')\n",
    "ax.bar_label(p2)"
   ]
  },
  {
   "cell_type": "markdown",
   "metadata": {
    "hidden": true
   },
   "source": [
    "**Proportion Test**"
   ]
  },
  {
   "cell_type": "code",
   "execution_count": 43,
   "metadata": {
    "hidden": true
   },
   "outputs": [
    {
     "name": "stdout",
     "output_type": "stream",
     "text": [
      "0.000\n"
     ]
    }
   ],
   "source": [
    "stat, pval = proportions_ztest(age_count[:, 0],\n",
    "                               age_count.groupby(level=0).sum())\n",
    "print(f'{pval:0.3f}')"
   ]
  },
  {
   "cell_type": "markdown",
   "metadata": {
    "hidden": true
   },
   "source": [
    "Therefore according to proportional test there do exists differences among age. The above 60 group have a higher churn rate than those under 60. What we could do is to understand why above 60 group have a higher churn rates and also focus on maintain low churn rate for those under 60.\n",
    "\n",
    "Does age & gender have a co-impact on churn rates? We could also possibily look at that.\n",
    "\n",
    "**Age & Gender**"
   ]
  },
  {
   "cell_type": "code",
   "execution_count": 44,
   "metadata": {
    "hidden": true
   },
   "outputs": [],
   "source": [
    "# f: female; m: male; und: under 60 yo.; abv: above 60 yo.; n: no; y: yes\n",
    "(f_und_n, f_und_y, f_abv_n, f_abv_y, m_und_n, m_und_y, m_abv_n,\n",
    " m_abv_y) = churn_data.groupby(\n",
    "     by=['Gender', 'Senior Citizen'])['Churn Value'].value_counts()"
   ]
  },
  {
   "cell_type": "code",
   "execution_count": 45,
   "metadata": {
    "hidden": true,
    "scrolled": true
   },
   "outputs": [
    {
     "data": {
      "text/plain": [
       "[Text(0, 0, '2920'), Text(0, 0, '568'), Text(0, 0, '2981'), Text(0, 0, '574')]"
      ]
     },
     "execution_count": 45,
     "metadata": {},
     "output_type": "execute_result"
    },
    {
     "data": {
      "image/png": "[encoded data removed]",
      "text/plain": [
       "<Figure size 432x288 with 1 Axes>"
      ]
     },
     "metadata": {
      "needs_background": "light"
     },
     "output_type": "display_data"
    }
   ],
   "source": [
    "fig, ax = plt.subplots()\n",
    "\n",
    "p1 = ax.bar(\n",
    "    x=['female_under60', 'female_above60', 'male_under60', 'male_above60'],\n",
    "    height=[f_und_y, f_abv_y, m_und_y, m_abv_y],\n",
    "    width=0.5,\n",
    "    color='orange')\n",
    "p2 = ax.bar(\n",
    "    x=['female_under60', 'female_above60', 'male_under60', 'male_above60'],\n",
    "    height=[f_und_n, f_abv_n, m_und_n, m_abv_n],\n",
    "    bottom=[f_und_y, f_abv_y, m_und_y, m_abv_y],\n",
    "    width=0.5)\n",
    "\n",
    "ax.set_ylabel('Churn Numbers')\n",
    "ax.set_title('Churn Number by age, gender')\n",
    "\n",
    "ax.legend(['Churn', 'No Churn'])\n",
    "\n",
    "ax.bar_label(p1, label_type='center')\n",
    "ax.bar_label(p2, label_type='center')\n",
    "ax.bar_label(p2)"
   ]
  },
  {
   "cell_type": "markdown",
   "metadata": {
    "hidden": true
   },
   "source": [
    "According to the graph above, if we see the differences considering both gender and age. There is no too much differences. I think only age have effects on churn rates. \n",
    "        \n",
    "Why old people have a higher churn rates?\n",
    "        \n",
    "I guess people above 60 have a different life style. They may have lower addication to internet and TV, compared with people under 60. "
   ]
  },
  {
   "cell_type": "markdown",
   "metadata": {
    "heading_collapsed": true,
    "hidden": true
   },
   "source": [
    "### 3.2.3 Partner Analysis"
   ]
  },
  {
   "cell_type": "markdown",
   "metadata": {
    "hidden": true
   },
   "source": [
    "**Partner Number Output**"
   ]
  },
  {
   "cell_type": "code",
   "execution_count": 46,
   "metadata": {
    "hidden": true
   },
   "outputs": [],
   "source": [
    "partner = len(churn_data[(churn_data['Partner'] == 1)])\n",
    "no_partner = len(churn_data[(churn_data['Partner'] == 0)])\n",
    "\n",
    "partner_churn = len(churn_data[(churn_data['Partner'] == 1)\n",
    "                               & (churn_data['Churn Value'] == 1)])\n",
    "partner_no_churn = len(churn_data[(churn_data['Partner'] == 1)\n",
    "                                  & (churn_data['Churn Value'] == 0)])\n",
    "no_partner_churn = len(churn_data[(churn_data['Partner'] == 0)\n",
    "                                  & (churn_data['Churn Value'] == 1)])\n",
    "no_partner_no_churn = len(churn_data[(churn_data['Partner'] == 0)\n",
    "                                     & (churn_data['Churn Value'] == 0)])\n",
    "\n",
    "partner_churn_rate = partner_churn / partner\n",
    "no_partner_churn_rate = no_partner_churn / no_partner"
   ]
  },
  {
   "cell_type": "markdown",
   "metadata": {
    "hidden": true
   },
   "source": [
    "**Visulization**"
   ]
  },
  {
   "cell_type": "code",
   "execution_count": 47,
   "metadata": {
    "hidden": true
   },
   "outputs": [
    {
     "data": {
      "text/plain": [
       "[Text(0, 0, '3402'), Text(0, 0, '3641')]"
      ]
     },
     "execution_count": 47,
     "metadata": {},
     "output_type": "execute_result"
    },
    {
     "data": {
      "image/png": "[encoded data removed]",
      "text/plain": [
       "<Figure size 432x288 with 1 Axes>"
      ]
     },
     "metadata": {
      "needs_background": "light"
     },
     "output_type": "display_data"
    }
   ],
   "source": [
    "fig, ax = plt.subplots()\n",
    "\n",
    "p1 = ax.bar(x=['Have Partner', 'No Partner'],\n",
    "            height=[partner_no_churn, no_partner_no_churn],\n",
    "            width=0.5,\n",
    "            color='orange')\n",
    "p2 = ax.bar(x=['Have Partner', 'No Partner'],\n",
    "            height=[partner_churn, no_partner_churn],\n",
    "            bottom=[partner_no_churn, no_partner_no_churn],\n",
    "            width=0.5)\n",
    "\n",
    "ax.set_ylabel('Churn Numbers')\n",
    "ax.set_title('Churn Number by Partner')\n",
    "plt.xticks((0, 1), [\n",
    "    f'NoPartner, Churn Rates: ({no_partner_churn_rate:.2f})',\n",
    "    f'Partner, Churn Rates: ({partner_churn_rate:.2f})'\n",
    "])\n",
    "ax.legend(['No Churn', 'Churn'])\n",
    "\n",
    "ax.bar_label(p1, label_type='center')\n",
    "ax.bar_label(p2, label_type='center')\n",
    "ax.bar_label(p2)"
   ]
  },
  {
   "cell_type": "markdown",
   "metadata": {
    "hidden": true
   },
   "source": [
    "**Proportion Test**"
   ]
  },
  {
   "cell_type": "code",
   "execution_count": 48,
   "metadata": {
    "hidden": true
   },
   "outputs": [
    {
     "name": "stdout",
     "output_type": "stream",
     "text": [
      "-12.63 0.0\n"
     ]
    }
   ],
   "source": [
    "count = np.array([partner_churn, no_partner_churn])\n",
    "nobs = np.array([partner, no_partner])\n",
    "stat, pval = proportions_ztest(count, nobs)\n",
    "print(round(stat, 2), round(pval, 2))"
   ]
  },
  {
   "cell_type": "markdown",
   "metadata": {
    "hidden": true
   },
   "source": [
    "According to the proportion test, it is confident to say that those have partner will be less easily to churn than those without partners, which is not the same with my expectation. \n",
    "\n",
    "### 3.2.4 Dependents Analysis:\n",
    "\n",
    "**Dependents Number Output**"
   ]
  },
  {
   "cell_type": "code",
   "execution_count": 49,
   "metadata": {
    "hidden": true
   },
   "outputs": [],
   "source": [
    "dependent = len(churn_data[(churn_data['Dependents'] == 1)])\n",
    "no_dependent = len(churn_data[(churn_data['Dependents'] == 0)])\n",
    "\n",
    "dependent_churn = len(churn_data[(churn_data['Dependents'] == 1)\n",
    "                                 & (churn_data['Churn Value'] == 1)])\n",
    "dependent_no_churn = len(churn_data[(churn_data['Dependents'] == 1)\n",
    "                                    & (churn_data['Churn Value'] == 0)])\n",
    "no_dependent_churn = len(churn_data[(churn_data['Dependents'] == 0)\n",
    "                                    & (churn_data['Churn Value'] == 1)])\n",
    "no_dependent_no_churn = len(churn_data[(churn_data['Dependents'] == 0)\n",
    "                                       & (churn_data['Churn Value'] == 0)])\n",
    "\n",
    "dependent_churn_rate = dependent_churn / dependent\n",
    "no_dependent_churn_rate = no_dependent_churn / no_dependent"
   ]
  },
  {
   "cell_type": "code",
   "execution_count": 50,
   "metadata": {
    "hidden": true
   },
   "outputs": [
    {
     "data": {
      "text/plain": [
       "[Text(0, 0, '1627'), Text(0, 0, '5416')]"
      ]
     },
     "execution_count": 50,
     "metadata": {},
     "output_type": "execute_result"
    },
    {
     "data": {
      "image/png": "[encoded data removed]",
      "text/plain": [
       "<Figure size 432x288 with 1 Axes>"
      ]
     },
     "metadata": {
      "needs_background": "light"
     },
     "output_type": "display_data"
    }
   ],
   "source": [
    "fig, ax = plt.subplots()\n",
    "\n",
    "p1 = ax.bar(x=['Have Dependents', 'No Dependents'],\n",
    "            height=[dependent_no_churn, no_dependent_no_churn],\n",
    "            width=0.5,\n",
    "            color='orange')\n",
    "p2 = ax.bar(x=['Have Dependents', 'No Dependents'],\n",
    "            height=[dependent_churn, no_dependent_churn],\n",
    "            bottom=[dependent_no_churn, no_dependent_no_churn],\n",
    "            width=0.5)\n",
    "\n",
    "ax.set_ylabel('Churn Numbers')\n",
    "ax.set_title('Churn Number by Dependents')\n",
    "plt.xticks((0, 1), [\n",
    "    f'NoDependents, Churn Rates: ({no_dependent_churn_rate:.2f})',\n",
    "    f'Dependent, Churn Rates: ({dependent_churn_rate:.2f})'\n",
    "])\n",
    "ax.legend(['No Churn', 'Churn'])\n",
    "\n",
    "ax.bar_label(p1, label_type='center')\n",
    "ax.bar_label(p2, label_type='center')\n",
    "ax.bar_label(p2)"
   ]
  },
  {
   "cell_type": "markdown",
   "metadata": {
    "hidden": true
   },
   "source": [
    "**Proportional Test**"
   ]
  },
  {
   "cell_type": "code",
   "execution_count": 51,
   "metadata": {
    "hidden": true
   },
   "outputs": [
    {
     "name": "stdout",
     "output_type": "stream",
     "text": [
      "-20.86 1.2813076987241367e-96\n"
     ]
    }
   ],
   "source": [
    "count = np.array([dependent_churn, no_dependent_churn])\n",
    "nobs = np.array([dependent, no_dependent])\n",
    "stat, pval = proportions_ztest(count, nobs)\n",
    "print(round(stat, 2), pval)"
   ]
  },
  {
   "cell_type": "markdown",
   "metadata": {
    "hidden": true
   },
   "source": [
    "We can conclude that there exists difference between users with dependents or without dependents. People have depdent have a lower churn rates compared with those have no dependents."
   ]
  },
  {
   "cell_type": "markdown",
   "metadata": {
    "hidden": true
   },
   "source": [
    "**Chi-square Test**"
   ]
  },
  {
   "cell_type": "code",
   "execution_count": 52,
   "metadata": {
    "hidden": true
   },
   "outputs": [
    {
     "data": {
      "text/plain": [
       "Partner  Dependents  Churn Value\n",
       "0        0           0              2189\n",
       "                     1              1150\n",
       "         1           0               252\n",
       "                     1                50\n",
       "1        0           0              1464\n",
       "                     1               613\n",
       "         1           0              1269\n",
       "                     1                56\n",
       "Name: Churn Value, dtype: int64"
      ]
     },
     "execution_count": 52,
     "metadata": {},
     "output_type": "execute_result"
    }
   ],
   "source": [
    "churn_data.groupby(by=['Partner', 'Dependents'])['Churn Value'].value_counts()"
   ]
  },
  {
   "cell_type": "code",
   "execution_count": 53,
   "metadata": {
    "hidden": true
   },
   "outputs": [
    {
     "data": {
      "text/plain": [
       "Power_divergenceResult(statistic=4671.08433906006, pvalue=0.0)"
      ]
     },
     "execution_count": 53,
     "metadata": {},
     "output_type": "execute_result"
    }
   ],
   "source": [
    "from scipy.stats import chisquare\n",
    "\n",
    "chisquare([2189, 252, 1464, 1269, 1150, 50, 613, 56])"
   ]
  },
  {
   "cell_type": "markdown",
   "metadata": {
    "hidden": true
   },
   "source": [
    "There is a difference among groups.\n",
    "\n",
    "Now we finished the demographical check. We could start to do geographic check."
   ]
  },
  {
   "cell_type": "markdown",
   "metadata": {
    "heading_collapsed": true
   },
   "source": [
    "## 3.3 Service Analysis"
   ]
  },
  {
   "cell_type": "markdown",
   "metadata": {
    "hidden": true
   },
   "source": [
    "- GetPhoneService\n",
    "- Internet \n",
    "- Online Support: Online Security, Online Backup, DeviceProtection, TechSupport\n",
    "- StreamingTV\n",
    "- StreamingMovies-Yes"
   ]
  },
  {
   "cell_type": "markdown",
   "metadata": {
    "hidden": true
   },
   "source": [
    "### 3.3.1 Phone Service"
   ]
  },
  {
   "cell_type": "markdown",
   "metadata": {
    "hidden": true
   },
   "source": [
    "Phone service include whether get a phone service and if get multilines.\n",
    "\n",
    "**Phone Service Number Output**"
   ]
  },
  {
   "cell_type": "code",
   "execution_count": 54,
   "metadata": {
    "hidden": true
   },
   "outputs": [],
   "source": [
    "No_PhoneService_churn = churn_data.groupby(\n",
    "    by=['Phone Service', 'Multiple Lines'\n",
    "        ])['Churn Value'].value_counts()[0][0][1]\n",
    "SingleLine_churn = churn_data.groupby(by=['Phone Service', 'Multiple Lines']\n",
    "                                      )['Churn Value'].value_counts()[1][0][1]\n",
    "MultiLine_churn = churn_data.groupby(by=['Phone Service', 'Multiple Lines']\n",
    "                                     )['Churn Value'].value_counts()[1][1][1]\n",
    "\n",
    "No_PhoneService_no_churn = churn_data.groupby(\n",
    "    by=['Phone Service', 'Multiple Lines'\n",
    "        ])['Churn Value'].value_counts()[0][0][0]\n",
    "SingleLine_no_churn = churn_data.groupby(\n",
    "    by=['Phone Service', 'Multiple Lines'\n",
    "        ])['Churn Value'].value_counts()[1][0][0]\n",
    "MultiLine_no_churn = churn_data.groupby(\n",
    "    by=['Phone Service', 'Multiple Lines'\n",
    "        ])['Churn Value'].value_counts()[1][1][0]\n",
    "\n",
    "No_churn_rate = No_PhoneService_churn / (No_PhoneService_churn +\n",
    "                                         No_PhoneService_no_churn)\n",
    "Single_churn_rate = SingleLine_churn / (SingleLine_no_churn + SingleLine_churn)\n",
    "Multi_churn_rate = MultiLine_churn / (MultiLine_churn + MultiLine_no_churn)"
   ]
  },
  {
   "cell_type": "markdown",
   "metadata": {
    "hidden": true
   },
   "source": [
    "**Visulization**"
   ]
  },
  {
   "cell_type": "code",
   "execution_count": 55,
   "metadata": {
    "hidden": true,
    "scrolled": true
   },
   "outputs": [
    {
     "data": {
      "text/plain": [
       "[Text(0, 0, '682'), Text(0, 0, '3390'), Text(0, 0, '2971')]"
      ]
     },
     "execution_count": 55,
     "metadata": {},
     "output_type": "execute_result"
    },
    {
     "data": {
      "image/png": "[encoded data removed]",
      "text/plain": [
       "<Figure size 813.543x566.929 with 1 Axes>"
      ]
     },
     "metadata": {
      "needs_background": "light"
     },
     "output_type": "display_data"
    }
   ],
   "source": [
    "# figure settings\n",
    "figure_width = 28.7  # cm\n",
    "figure_height = 20  # cm\n",
    "left_right_magrin = 1  # cm\n",
    "top_bottom_margin = 1  # cm\n",
    "\n",
    "# Don't change\n",
    "left = left_right_magrin / figure_width  # Percentage from height\n",
    "bottom = top_bottom_margin / figure_height  # Percentage from height\n",
    "width = 1 - left * 2\n",
    "height = 1 - bottom * 2\n",
    "cm2inch = 1 / 2.54  # inch per cm\n",
    "\n",
    "# specifying the width and the height of the box in inches\n",
    "fig = plt.figure(figsize=(figure_width * cm2inch, figure_height * cm2inch))\n",
    "ax = fig.add_axes((left, bottom, width, height))\n",
    "\n",
    "p1 = ax.bar(\n",
    "    x=[\n",
    "        'No Phone Service', 'Phone Service - Multi Line',\n",
    "        'Phone Service - Single Line'\n",
    "    ],\n",
    "    height=[No_PhoneService_no_churn, SingleLine_no_churn, MultiLine_no_churn],\n",
    "    width=0.5,\n",
    "    color='orange')\n",
    "p2 = ax.bar(\n",
    "    x=[\n",
    "        'No Phone Service', 'Phone Service - Multi Line',\n",
    "        'Phone Service - Single Line'\n",
    "    ],\n",
    "    height=[No_PhoneService_churn, SingleLine_churn, MultiLine_churn],\n",
    "    bottom=[No_PhoneService_no_churn, SingleLine_no_churn, MultiLine_no_churn],\n",
    "    width=0.5)\n",
    "\n",
    "ax.set_ylabel('Churn Numbers', size=25)\n",
    "ax.set_title('Churn Number by Phone Service', size=25)\n",
    "\n",
    "ax.legend(['No Churn', 'Churn'])\n",
    "\n",
    "ax.bar_label(p1, label_type='center', fontsize=25)\n",
    "ax.bar_label(p2, label_type='center', fontsize=25)\n",
    "ax.bar_label(p2, fontsize=25)"
   ]
  },
  {
   "cell_type": "code",
   "execution_count": 56,
   "metadata": {
    "hidden": true
   },
   "outputs": [
    {
     "name": "stdout",
     "output_type": "stream",
     "text": [
      "No phone service churn rate: 0.2493\n",
      "Multi Line churn rate: 0.2504\n",
      "Single Line churn rate: 0.2861\n"
     ]
    }
   ],
   "source": [
    "print('No phone service churn rate: ' + str(round(No_churn_rate, 4)))\n",
    "print('Multi Line churn rate: ' + str(round(Single_churn_rate, 4)))\n",
    "print('Single Line churn rate: ' + str(round(Multi_churn_rate, 4)))"
   ]
  },
  {
   "cell_type": "markdown",
   "metadata": {
    "hidden": true
   },
   "source": [
    "**Chi-Square Test**"
   ]
  },
  {
   "cell_type": "markdown",
   "metadata": {
    "hidden": true
   },
   "source": [
    "It seems like there is no much differences between these rates. However, multi line churn rates is relatively higher among all.\n",
    "We may do a test to confirm that.\n",
    "\n",
    "*H0:p1=p2=p3*\n",
    "\n",
    "We use chi square test to test that."
   ]
  },
  {
   "cell_type": "code",
   "execution_count": 57,
   "metadata": {
    "hidden": true
   },
   "outputs": [
    {
     "data": {
      "text/plain": [
       "Power_divergenceResult(statistic=3767.450376260117, pvalue=0.0)"
      ]
     },
     "execution_count": 57,
     "metadata": {},
     "output_type": "execute_result"
    }
   ],
   "source": [
    "chisquare([170, 849, 850, 512, 2541, 2121])"
   ]
  },
  {
   "cell_type": "markdown",
   "metadata": {
    "hidden": true
   },
   "source": [
    "The phone service does have an effect on churn rate."
   ]
  },
  {
   "cell_type": "markdown",
   "metadata": {
    "heading_collapsed": true,
    "hidden": true
   },
   "source": [
    "### 3.3.2 Internet Service"
   ]
  },
  {
   "cell_type": "markdown",
   "metadata": {
    "hidden": true
   },
   "source": [
    "**Number Output**"
   ]
  },
  {
   "cell_type": "code",
   "execution_count": 58,
   "metadata": {
    "hidden": true
   },
   "outputs": [],
   "source": [
    "DSL_churn = churn_data.groupby(\n",
    "    by=['Internet Service'])['Churn Value'].value_counts()['DSL'][1]\n",
    "DSL_no_churn = churn_data.groupby(\n",
    "    by=['Internet Service'])['Churn Value'].value_counts()['DSL'][0]\n",
    "FO_churn = churn_data.groupby(\n",
    "    by=['Internet Service'])['Churn Value'].value_counts()['Fiber optic'][1]\n",
    "FO_no_churn = churn_data.groupby(\n",
    "    by=['Internet Service'])['Churn Value'].value_counts()['Fiber optic'][0]\n",
    "No_Internet_churn = churn_data.groupby(\n",
    "    by=['Internet Service'])['Churn Value'].value_counts()['No'][1]\n",
    "No_Internet_no_churn = churn_data.groupby(\n",
    "    by=['Internet Service'])['Churn Value'].value_counts()['No'][0]\n",
    "\n",
    "DSL_rate = DSL_churn / churn_data['Internet Service'].value_counts()['DSL']\n",
    "FO_rate = FO_churn / churn_data['Internet Service'].value_counts(\n",
    ")['Fiber optic']\n",
    "No_Internet_rate = No_Internet_churn / churn_data[\n",
    "    'Internet Service'].value_counts()['No']"
   ]
  },
  {
   "cell_type": "code",
   "execution_count": 59,
   "metadata": {
    "hidden": true
   },
   "outputs": [
    {
     "data": {
      "text/plain": [
       "[Text(0, 0, '1526'), Text(0, 0, '2421'), Text(0, 0, '3096')]"
      ]
     },
     "execution_count": 59,
     "metadata": {},
     "output_type": "execute_result"
    },
    {
     "data": {
      "image/png": "[encoded data removed]",
      "text/plain": [
       "<Figure size 813.543x566.929 with 1 Axes>"
      ]
     },
     "metadata": {
      "needs_background": "light"
     },
     "output_type": "display_data"
    }
   ],
   "source": [
    "# figure settings\n",
    "figure_width = 28.7  # cm\n",
    "figure_height = 20  # cm\n",
    "left_right_magrin = 1  # cm\n",
    "top_bottom_margin = 1  # cm\n",
    "\n",
    "# Don't change\n",
    "left = left_right_magrin / figure_width  # Percentage from height\n",
    "bottom = top_bottom_margin / figure_height  # Percentage from height\n",
    "width = 1 - left * 2\n",
    "height = 1 - bottom * 2\n",
    "cm2inch = 1 / 2.54  # inch per cm\n",
    "\n",
    "# specifying the width and the height of the box in inches\n",
    "fig = plt.figure(figsize=(figure_width * cm2inch, figure_height * cm2inch))\n",
    "ax = fig.add_axes((left, bottom, width, height))\n",
    "\n",
    "p1 = ax.bar(x=['No_Internet', 'DSL', 'Fiber'],\n",
    "            height=[No_Internet_no_churn, DSL_no_churn, FO_no_churn],\n",
    "            width=0.5,\n",
    "            color='orange')\n",
    "p2 = ax.bar(x=['No_Internet', 'DSL', 'Fiber'],\n",
    "            height=[No_Internet_churn, DSL_churn, FO_churn],\n",
    "            bottom=[No_Internet_no_churn, DSL_no_churn, FO_no_churn],\n",
    "            width=0.5)\n",
    "\n",
    "ax.set_ylabel('Churn Numbers', size=25)\n",
    "ax.set_title('Churn Number by Internet Service', size=25)\n",
    "\n",
    "ax.legend(['No Churn', 'Churn'])\n",
    "\n",
    "ax.bar_label(p1, label_type='center', fontsize=25)\n",
    "ax.bar_label(p2, label_type='center', fontsize=25)\n",
    "ax.bar_label(p2, fontsize=25)"
   ]
  },
  {
   "cell_type": "code",
   "execution_count": 60,
   "metadata": {
    "hidden": true
   },
   "outputs": [
    {
     "name": "stdout",
     "output_type": "stream",
     "text": [
      "No internet churn rate:0.074\n",
      "Internet DSL churn rate:0.1896\n",
      "Internet FO churn rate:0.4189\n"
     ]
    }
   ],
   "source": [
    "print('No internet churn rate:' + str(round(No_Internet_rate, 4)))\n",
    "print('Internet DSL churn rate:' + str(round(DSL_rate, 4)))\n",
    "print('Internet FO churn rate:' + str(round(FO_rate, 4)))"
   ]
  },
  {
   "cell_type": "code",
   "execution_count": 61,
   "metadata": {
    "hidden": true
   },
   "outputs": [
    {
     "data": {
      "text/plain": [
       "Power_divergenceResult(statistic=array([1189.84269663,   92.18515655]), pvalue=array([4.25540854e-259, 9.59947757e-021]))"
      ]
     },
     "execution_count": 61,
     "metadata": {},
     "output_type": "execute_result"
    }
   ],
   "source": [
    "obs = np.array([[113, 459, 1297], [1413, 1962, 1799]]).T\n",
    "chisquare(obs)"
   ]
  },
  {
   "cell_type": "markdown",
   "metadata": {
    "hidden": true
   },
   "source": [
    "There exists differences of the churn rate of those whether have internet service and what service they subscribed."
   ]
  },
  {
   "cell_type": "markdown",
   "metadata": {
    "hidden": true
   },
   "source": [
    "It seems like there are large differences between churn rates among these service. I believe customers with DSL have lower churn rates among all service. Does Internet Fiber Optical have any possible updates to fulfill user experience. What is the difference between DSL and Fiber optical? What is Internet Fiber target group?\n",
    "\n",
    "**Subquestion: Internet Fiber & DSL target group?**"
   ]
  },
  {
   "cell_type": "code",
   "execution_count": 62,
   "metadata": {
    "hidden": true
   },
   "outputs": [
    {
     "data": {
      "text/plain": [
       "Gender  Senior Citizen  Partner  Dependents\n",
       "1       0               0        0             500\n",
       "0       0               0        0             494\n",
       "1       0               1        0             310\n",
       "0       0               1        0             292\n",
       "                                 1             226\n",
       "1       0               1        1             217\n",
       "0       1               0        0              71\n",
       "1       0               0        1              70\n",
       "        1               0        0              63\n",
       "                        1        0              63\n",
       "0       0               0        1              53\n",
       "        1               1        0              40\n",
       "                                 1              12\n",
       "1       1               1        1               8\n",
       "                        0        1               2\n",
       "dtype: int64"
      ]
     },
     "execution_count": 62,
     "metadata": {},
     "output_type": "execute_result"
    }
   ],
   "source": [
    "churn_data[(churn_data['Internet Service'] == 'DSL')][[\n",
    "    'Gender', 'Senior Citizen', 'Partner', 'Dependents'\n",
    "]].value_counts()"
   ]
  },
  {
   "cell_type": "markdown",
   "metadata": {
    "hidden": true
   },
   "source": [
    "Most DSL user is uder60 and may not have dependents. DSL targets on young users."
   ]
  },
  {
   "cell_type": "code",
   "execution_count": 63,
   "metadata": {
    "hidden": true
   },
   "outputs": [
    {
     "data": {
      "text/plain": [
       "Gender  Senior Citizen  Partner  Dependents\n",
       "1       0               0        0             564\n",
       "0       0               0        0             562\n",
       "                        1        0             360\n",
       "1       0               1        0             351\n",
       "0       1               0        0             233\n",
       "1       1               1        0             220\n",
       "        0               1        1             191\n",
       "0       0               1        1             171\n",
       "1       1               0        0             166\n",
       "0       1               1        0             164\n",
       "        0               0        1              36\n",
       "1       0               0        1              30\n",
       "0       1               1        1              21\n",
       "1       1               1        1              18\n",
       "0       1               0        1               6\n",
       "1       1               0        1               3\n",
       "dtype: int64"
      ]
     },
     "execution_count": 63,
     "metadata": {},
     "output_type": "execute_result"
    }
   ],
   "source": [
    "churn_data[(churn_data['Internet Service'] == 'Fiber optic')][[\n",
    "    'Gender', 'Senior Citizen', 'Partner', 'Dependents'\n",
    "]].value_counts()"
   ]
  },
  {
   "cell_type": "markdown",
   "metadata": {
    "hidden": true
   },
   "source": [
    "Most Fiber users does not have dependents but have partners."
   ]
  },
  {
   "cell_type": "markdown",
   "metadata": {
    "heading_collapsed": true,
    "hidden": true
   },
   "source": [
    "### 3.3.3 Internet Protection\n",
    "\n",
    "Does internet protection help to decrease the churn rate?\n",
    "\n",
    "- Several variable we could look at:\n",
    "    - OnlineSecurity-Yes   \n",
    "    - OnlineBackup-Yes\n",
    "    - DeviceProtection-Yes\n",
    "    - TechSupport-Yes\n",
    "- Visulization\n",
    "- Possible tests"
   ]
  },
  {
   "cell_type": "markdown",
   "metadata": {
    "hidden": true
   },
   "source": [
    "**Number Output**"
   ]
  },
  {
   "cell_type": "code",
   "execution_count": 64,
   "metadata": {
    "hidden": true
   },
   "outputs": [],
   "source": [
    "OnlineSecurity = churn_data['Online Security'].value_counts()[1]\n",
    "OnlineBackup = churn_data['Online Backup'].value_counts()[1]\n",
    "DeviceProtection = churn_data['Device Protection'].value_counts()[1]\n",
    "TechSupport = churn_data['Tech Support'].value_counts()[1]"
   ]
  },
  {
   "cell_type": "code",
   "execution_count": 65,
   "metadata": {
    "hidden": true
   },
   "outputs": [],
   "source": [
    "OnlineSecurity_churn = churn_data.groupby(\n",
    "    by=['Online Security'])['Churn Value'].value_counts()[1][1]\n",
    "OnlineSecurity_no_churn = churn_data.groupby(\n",
    "    by=['Online Security'])['Churn Value'].value_counts()[1][0]"
   ]
  },
  {
   "cell_type": "code",
   "execution_count": 66,
   "metadata": {
    "hidden": true
   },
   "outputs": [],
   "source": [
    "OnlineBackup_churn = churn_data.groupby(\n",
    "    by=['Online Backup'])['Churn Value'].value_counts()[1][1]\n",
    "OnlineBackup_no_churn = churn_data.groupby(\n",
    "    by=['Online Backup'])['Churn Value'].value_counts()[1][0]"
   ]
  },
  {
   "cell_type": "code",
   "execution_count": 67,
   "metadata": {
    "hidden": true
   },
   "outputs": [],
   "source": [
    "DeviceProtection_churn = churn_data.groupby(\n",
    "    by=['Device Protection'])['Churn Value'].value_counts()[1][1]\n",
    "DeviceProtection_no_churn = churn_data.groupby(\n",
    "    by=['Device Protection'])['Churn Value'].value_counts()[1][0]"
   ]
  },
  {
   "cell_type": "code",
   "execution_count": 68,
   "metadata": {
    "hidden": true
   },
   "outputs": [],
   "source": [
    "TechSupport_churn = churn_data.groupby(\n",
    "    by=['Tech Support'])['Churn Value'].value_counts()[1][1]\n",
    "TechSupport_no_churn = churn_data.groupby(\n",
    "    by=['Tech Support'])['Churn Value'].value_counts()[1][0]"
   ]
  },
  {
   "cell_type": "markdown",
   "metadata": {
    "hidden": true
   },
   "source": [
    "**Visulization**"
   ]
  },
  {
   "cell_type": "code",
   "execution_count": 69,
   "metadata": {
    "hidden": true
   },
   "outputs": [
    {
     "data": {
      "text/plain": [
       "[Text(0, 0, '2019'),\n",
       " Text(0, 0, '2429'),\n",
       " Text(0, 0, '2422'),\n",
       " Text(0, 0, '2044')]"
      ]
     },
     "execution_count": 69,
     "metadata": {},
     "output_type": "execute_result"
    },
    {
     "data": {
      "image/png": "[encoded data removed]",
      "text/plain": [
       "<Figure size 813.543x566.929 with 1 Axes>"
      ]
     },
     "metadata": {
      "needs_background": "light"
     },
     "output_type": "display_data"
    }
   ],
   "source": [
    "# figure settings\n",
    "figure_width = 28.7  # cm\n",
    "figure_height = 20  # cm\n",
    "left_right_magrin = 1  # cm\n",
    "top_bottom_margin = 1  # cm\n",
    "\n",
    "# Don't change\n",
    "left = left_right_magrin / figure_width  # Percentage from height\n",
    "bottom = top_bottom_margin / figure_height  # Percentage from height\n",
    "width = 1 - left * 2\n",
    "height = 1 - bottom * 2\n",
    "cm2inch = 1 / 2.54  # inch per cm\n",
    "\n",
    "# specifying the width and the height of the box in inches\n",
    "fig = plt.figure(figsize=(figure_width * cm2inch, figure_height * cm2inch))\n",
    "ax = fig.add_axes((left, bottom, width, height))\n",
    "\n",
    "p1 = ax.bar(\n",
    "    x=['OnlineSecurity', 'OnlineBackup', 'DeviceProtection', 'TechSupport'],\n",
    "    height=[\n",
    "        OnlineSecurity_no_churn, OnlineBackup_no_churn,\n",
    "        DeviceProtection_no_churn, TechSupport_no_churn\n",
    "    ],\n",
    "    width=0.5,\n",
    "    color='orange')\n",
    "p2 = ax.bar(\n",
    "    x=['OnlineSecurity', 'OnlineBackup', 'DeviceProtection', 'TechSupport'],\n",
    "    bottom=[\n",
    "        OnlineSecurity_no_churn, OnlineBackup_no_churn,\n",
    "        DeviceProtection_no_churn, TechSupport_no_churn\n",
    "    ],\n",
    "    height=[\n",
    "        OnlineSecurity_churn, OnlineBackup_churn, DeviceProtection_churn,\n",
    "        TechSupport_churn\n",
    "    ],\n",
    "    width=0.5)\n",
    "\n",
    "ax.set_ylabel('Churn Numbers', size=25)\n",
    "ax.set_title('Churn Number by Internet Specific Service', size=25)\n",
    "\n",
    "ax.legend(['No Churn', 'Churn'])\n",
    "\n",
    "ax.bar_label(p1, label_type='center', fontsize=25)\n",
    "ax.bar_label(p2, label_type='center', fontsize=25)\n",
    "ax.bar_label(p2, fontsize=25)"
   ]
  },
  {
   "cell_type": "markdown",
   "metadata": {
    "hidden": true
   },
   "source": [
    "**Chi Square Test**"
   ]
  },
  {
   "cell_type": "code",
   "execution_count": 70,
   "metadata": {
    "hidden": true
   },
   "outputs": [
    {
     "data": {
      "text/plain": [
       "Power_divergenceResult(statistic=array([128.98206814,  13.77764962]), pvalue=array([8.96258489e-28, 3.22397675e-03]))"
      ]
     },
     "execution_count": 70,
     "metadata": {},
     "output_type": "execute_result"
    }
   ],
   "source": [
    "obs = np.array([[295, 523, 545, 310], [2037, 1855, 1884, 2027]]).T\n",
    "chisquare(obs)"
   ]
  },
  {
   "cell_type": "markdown",
   "metadata": {
    "hidden": true
   },
   "source": [
    "According to chi-square test, there exists significant differences of churn rates by internet specific service. I may think the online security and tech support are most important feature our user want to have. I may recommend to put more effort in promoting and updating these two functions."
   ]
  },
  {
   "cell_type": "markdown",
   "metadata": {
    "heading_collapsed": true,
    "hidden": true
   },
   "source": [
    "### 3.3.4 Streaming Service\n",
    "\n",
    "**Variables check:** \n",
    "    \n",
    "    - StreamingTV-Yes\n",
    "    - StreamingMovies-Yes"
   ]
  },
  {
   "cell_type": "code",
   "execution_count": 71,
   "metadata": {
    "hidden": true
   },
   "outputs": [],
   "source": [
    "StreamingTV_churn = len(churn_data[(churn_data['Streaming TV'] == 1)\n",
    "                                   & (churn_data['Churn Value'] == 1)])\n",
    "StreamingTV_no_churn = len(churn_data[(churn_data['Streaming TV'] == 0)\n",
    "                                      & (churn_data['Churn Value'] == 0)])\n",
    "StreamingMovies_churn = len(churn_data[(churn_data['Streaming Movies'] == 1)\n",
    "                                       & (churn_data['Churn Value'] == 1)])\n",
    "StreamingMovies_no_churn = len(churn_data[(churn_data['Streaming Movies'] == 0)\n",
    "                                          & (churn_data['Churn Value'] == 0)])"
   ]
  },
  {
   "cell_type": "markdown",
   "metadata": {
    "hidden": true
   },
   "source": [
    "**Visulization**"
   ]
  },
  {
   "cell_type": "code",
   "execution_count": 72,
   "metadata": {
    "hidden": true
   },
   "outputs": [
    {
     "data": {
      "text/plain": [
       "[Text(0, 0, '4095'), Text(0, 0, '4078')]"
      ]
     },
     "execution_count": 72,
     "metadata": {},
     "output_type": "execute_result"
    },
    {
     "data": {
      "image/png": "[encoded data removed]",
      "text/plain": [
       "<Figure size 813.543x566.929 with 1 Axes>"
      ]
     },
     "metadata": {
      "needs_background": "light"
     },
     "output_type": "display_data"
    }
   ],
   "source": [
    "# specifying the width and the height of the box in inches\n",
    "fig = plt.figure(figsize=(figure_width * cm2inch, figure_height * cm2inch))\n",
    "ax = fig.add_axes((left, bottom, width, height))\n",
    "\n",
    "p1 = ax.bar(x=['StreamingTV', 'StreamingMovies'],\n",
    "            height=[StreamingTV_no_churn, StreamingMovies_no_churn],\n",
    "            width=0.5,\n",
    "            color='orange')\n",
    "p2 = ax.bar(x=['StreamingTV', 'StreamingMovies'],\n",
    "            bottom=[StreamingTV_no_churn, StreamingMovies_no_churn],\n",
    "            height=[StreamingTV_churn, StreamingMovies_churn],\n",
    "            width=0.5)\n",
    "\n",
    "ax.set_ylabel('Churn Numbers', size=25)\n",
    "ax.set_title('Churn Number by Streaming Subscription', size=25)\n",
    "\n",
    "ax.legend(['No Churn', 'Churn'])\n",
    "\n",
    "ax.bar_label(p1, label_type='center', fontsize=25)\n",
    "ax.bar_label(p2, label_type='center', fontsize=25)\n",
    "ax.bar_label(p2, fontsize=25)"
   ]
  },
  {
   "cell_type": "markdown",
   "metadata": {
    "hidden": true
   },
   "source": [
    "**Proper tests**"
   ]
  },
  {
   "cell_type": "code",
   "execution_count": 73,
   "metadata": {
    "hidden": true
   },
   "outputs": [
    {
     "name": "stdout",
     "output_type": "stream",
     "text": [
      "-0.26 0.79\n"
     ]
    }
   ],
   "source": [
    "count = np.array([814, 818])\n",
    "nobs = np.array([3281, 3260])\n",
    "stat, pval = proportions_ztest(count, nobs)\n",
    "print(round(stat, 2), round(pval, 2))"
   ]
  },
  {
   "cell_type": "markdown",
   "metadata": {},
   "source": [
    "## 3.4 Payment Analysis"
   ]
  },
  {
   "cell_type": "markdown",
   "metadata": {},
   "source": [
    "- Several Variables:\n",
    "       - Payment Method      \n",
    "       - Monthly Charges \n",
    "       - Total Charges \n",
    "       - PaperlessBilling "
   ]
  },
  {
   "cell_type": "markdown",
   "metadata": {
    "heading_collapsed": true
   },
   "source": [
    "### 3.4.1 Payment Method"
   ]
  },
  {
   "cell_type": "markdown",
   "metadata": {
    "hidden": true
   },
   "source": [
    "First, we need to know **how many** payment method is here:"
   ]
  },
  {
   "cell_type": "code",
   "execution_count": 74,
   "metadata": {
    "hidden": true
   },
   "outputs": [
    {
     "data": {
      "text/html": [
       "<div>\n",
       "<style scoped>\n",
       "    .dataframe tbody tr th:only-of-type {\n",
       "        vertical-align: middle;\n",
       "    }\n",
       "\n",
       "    .dataframe tbody tr th {\n",
       "        vertical-align: top;\n",
       "    }\n",
       "\n",
       "    .dataframe thead th {\n",
       "        text-align: right;\n",
       "    }\n",
       "</style>\n",
       "<table border=\"1\" class=\"dataframe\">\n",
       "  <thead>\n",
       "    <tr style=\"text-align: right;\">\n",
       "      <th></th>\n",
       "      <th>Payment Method</th>\n",
       "      <th>counts</th>\n",
       "    </tr>\n",
       "  </thead>\n",
       "  <tbody>\n",
       "    <tr>\n",
       "      <th>0</th>\n",
       "      <td>Electronic check</td>\n",
       "      <td>2365</td>\n",
       "    </tr>\n",
       "    <tr>\n",
       "      <th>1</th>\n",
       "      <td>Mailed check</td>\n",
       "      <td>1612</td>\n",
       "    </tr>\n",
       "    <tr>\n",
       "      <th>2</th>\n",
       "      <td>Bank transfer (automatic)</td>\n",
       "      <td>1544</td>\n",
       "    </tr>\n",
       "    <tr>\n",
       "      <th>3</th>\n",
       "      <td>Credit card (automatic)</td>\n",
       "      <td>1522</td>\n",
       "    </tr>\n",
       "  </tbody>\n",
       "</table>\n",
       "</div>"
      ],
      "text/plain": [
       "              Payment Method  counts\n",
       "0           Electronic check    2365\n",
       "1               Mailed check    1612\n",
       "2  Bank transfer (automatic)    1544\n",
       "3    Credit card (automatic)    1522"
      ]
     },
     "execution_count": 74,
     "metadata": {},
     "output_type": "execute_result"
    }
   ],
   "source": [
    "tb1 = churn_data['Payment Method'].value_counts().rename_axis(\n",
    "    'Payment Method').reset_index(name='counts')\n",
    "tb1"
   ]
  },
  {
   "cell_type": "markdown",
   "metadata": {
    "hidden": true
   },
   "source": [
    "Most people choose to use the electronic check. I believe the reason is it is fast and efficient to make a transfer.\n",
    "\n",
    "Next, I want to see the churn rates among these method."
   ]
  },
  {
   "cell_type": "code",
   "execution_count": 75,
   "metadata": {
    "hidden": true
   },
   "outputs": [
    {
     "data": {
      "text/html": [
       "<div>\n",
       "<style scoped>\n",
       "    .dataframe tbody tr th:only-of-type {\n",
       "        vertical-align: middle;\n",
       "    }\n",
       "\n",
       "    .dataframe tbody tr th {\n",
       "        vertical-align: top;\n",
       "    }\n",
       "\n",
       "    .dataframe thead th {\n",
       "        text-align: right;\n",
       "    }\n",
       "</style>\n",
       "<table border=\"1\" class=\"dataframe\">\n",
       "  <thead>\n",
       "    <tr style=\"text-align: right;\">\n",
       "      <th></th>\n",
       "      <th>Payment Method</th>\n",
       "      <th>Churn Value</th>\n",
       "      <th>churn counts</th>\n",
       "    </tr>\n",
       "  </thead>\n",
       "  <tbody>\n",
       "    <tr>\n",
       "      <th>0</th>\n",
       "      <td>Bank transfer (automatic)</td>\n",
       "      <td>0</td>\n",
       "      <td>1286</td>\n",
       "    </tr>\n",
       "    <tr>\n",
       "      <th>1</th>\n",
       "      <td>Bank transfer (automatic)</td>\n",
       "      <td>1</td>\n",
       "      <td>258</td>\n",
       "    </tr>\n",
       "    <tr>\n",
       "      <th>2</th>\n",
       "      <td>Credit card (automatic)</td>\n",
       "      <td>0</td>\n",
       "      <td>1290</td>\n",
       "    </tr>\n",
       "    <tr>\n",
       "      <th>3</th>\n",
       "      <td>Credit card (automatic)</td>\n",
       "      <td>1</td>\n",
       "      <td>232</td>\n",
       "    </tr>\n",
       "    <tr>\n",
       "      <th>4</th>\n",
       "      <td>Electronic check</td>\n",
       "      <td>0</td>\n",
       "      <td>1294</td>\n",
       "    </tr>\n",
       "    <tr>\n",
       "      <th>5</th>\n",
       "      <td>Electronic check</td>\n",
       "      <td>1</td>\n",
       "      <td>1071</td>\n",
       "    </tr>\n",
       "    <tr>\n",
       "      <th>6</th>\n",
       "      <td>Mailed check</td>\n",
       "      <td>0</td>\n",
       "      <td>1304</td>\n",
       "    </tr>\n",
       "    <tr>\n",
       "      <th>7</th>\n",
       "      <td>Mailed check</td>\n",
       "      <td>1</td>\n",
       "      <td>308</td>\n",
       "    </tr>\n",
       "  </tbody>\n",
       "</table>\n",
       "</div>"
      ],
      "text/plain": [
       "              Payment Method  Churn Value  churn counts\n",
       "0  Bank transfer (automatic)            0          1286\n",
       "1  Bank transfer (automatic)            1           258\n",
       "2    Credit card (automatic)            0          1290\n",
       "3    Credit card (automatic)            1           232\n",
       "4           Electronic check            0          1294\n",
       "5           Electronic check            1          1071\n",
       "6               Mailed check            0          1304\n",
       "7               Mailed check            1           308"
      ]
     },
     "execution_count": 75,
     "metadata": {},
     "output_type": "execute_result"
    }
   ],
   "source": [
    "tb2 = churn_data.groupby(\n",
    "    by=['Payment Method'])['Churn Value'].value_counts().rename_axis(\n",
    "        ['Payment Method', 'Churn Value']).reset_index(name='churn counts')\n",
    "tb2"
   ]
  },
  {
   "cell_type": "code",
   "execution_count": 76,
   "metadata": {
    "hidden": true
   },
   "outputs": [
    {
     "data": {
      "text/html": [
       "<div>\n",
       "<style scoped>\n",
       "    .dataframe tbody tr th:only-of-type {\n",
       "        vertical-align: middle;\n",
       "    }\n",
       "\n",
       "    .dataframe tbody tr th {\n",
       "        vertical-align: top;\n",
       "    }\n",
       "\n",
       "    .dataframe thead th {\n",
       "        text-align: right;\n",
       "    }\n",
       "</style>\n",
       "<table border=\"1\" class=\"dataframe\">\n",
       "  <thead>\n",
       "    <tr style=\"text-align: right;\">\n",
       "      <th></th>\n",
       "      <th>Payment Method</th>\n",
       "      <th>Churn Value</th>\n",
       "      <th>churn counts</th>\n",
       "      <th>counts</th>\n",
       "      <th>percent</th>\n",
       "    </tr>\n",
       "  </thead>\n",
       "  <tbody>\n",
       "    <tr>\n",
       "      <th>1</th>\n",
       "      <td>Bank transfer (automatic)</td>\n",
       "      <td>1</td>\n",
       "      <td>258</td>\n",
       "      <td>1544</td>\n",
       "      <td>0.167098</td>\n",
       "    </tr>\n",
       "    <tr>\n",
       "      <th>3</th>\n",
       "      <td>Credit card (automatic)</td>\n",
       "      <td>1</td>\n",
       "      <td>232</td>\n",
       "      <td>1522</td>\n",
       "      <td>0.152431</td>\n",
       "    </tr>\n",
       "    <tr>\n",
       "      <th>5</th>\n",
       "      <td>Electronic check</td>\n",
       "      <td>1</td>\n",
       "      <td>1071</td>\n",
       "      <td>2365</td>\n",
       "      <td>0.452854</td>\n",
       "    </tr>\n",
       "    <tr>\n",
       "      <th>7</th>\n",
       "      <td>Mailed check</td>\n",
       "      <td>1</td>\n",
       "      <td>308</td>\n",
       "      <td>1612</td>\n",
       "      <td>0.191067</td>\n",
       "    </tr>\n",
       "  </tbody>\n",
       "</table>\n",
       "</div>"
      ],
      "text/plain": [
       "              Payment Method  Churn Value  churn counts  counts   percent\n",
       "1  Bank transfer (automatic)            1           258    1544  0.167098\n",
       "3    Credit card (automatic)            1           232    1522  0.152431\n",
       "5           Electronic check            1          1071    2365  0.452854\n",
       "7               Mailed check            1           308    1612  0.191067"
      ]
     },
     "execution_count": 76,
     "metadata": {},
     "output_type": "execute_result"
    }
   ],
   "source": [
    "tb3 = pd.merge(tb2, tb1, left_on='Payment Method', right_on='Payment Method')\n",
    "tb3['percent'] = tb3['churn counts'] / tb3['counts']\n",
    "tb3[tb3['Churn Value'] == 1]"
   ]
  },
  {
   "cell_type": "markdown",
   "metadata": {
    "hidden": true
   },
   "source": [
    "Although many people chooseto use electronic check, it shows that it has the highest churn rates among all method. I think there exists some problem using elcectronic check purchasing our service. I would recommend to investigate what is happening and improve the payment service."
   ]
  },
  {
   "cell_type": "markdown",
   "metadata": {},
   "source": [
    "### 3.4.2 Monthly Charges\n",
    "\n",
    "First, I want to know how monthly charges distributed."
   ]
  },
  {
   "cell_type": "code",
   "execution_count": 77,
   "metadata": {},
   "outputs": [],
   "source": [
    "tb4 = churn_data['Monthly Charges'].value_counts().rename_axis(\n",
    "    'Monthly Charges').reset_index(name='counts')"
   ]
  },
  {
   "cell_type": "code",
   "execution_count": 78,
   "metadata": {},
   "outputs": [],
   "source": [
    "tb4.reset_index(drop=True, inplace=True)"
   ]
  },
  {
   "cell_type": "code",
   "execution_count": 79,
   "metadata": {},
   "outputs": [
    {
     "data": {
      "text/plain": [
       "20.05"
      ]
     },
     "execution_count": 79,
     "metadata": {},
     "output_type": "execute_result"
    }
   ],
   "source": [
    "import statistics\n",
    "\n",
    "statistics.mode(tb4['Monthly Charges'])"
   ]
  },
  {
   "cell_type": "code",
   "execution_count": 80,
   "metadata": {},
   "outputs": [
    {
     "data": {
      "text/plain": [
       "count    7043.000000\n",
       "mean       64.761692\n",
       "std        30.090047\n",
       "min        18.250000\n",
       "25%        35.500000\n",
       "50%        70.350000\n",
       "75%        89.850000\n",
       "max       118.750000\n",
       "Name: Monthly Charges, dtype: float64"
      ]
     },
     "execution_count": 80,
     "metadata": {},
     "output_type": "execute_result"
    }
   ],
   "source": [
    "churn_data['Monthly Charges'].describe()"
   ]
  },
  {
   "cell_type": "markdown",
   "metadata": {},
   "source": [
    "Most people month charge is below 51. How about churn rates?"
   ]
  },
  {
   "cell_type": "markdown",
   "metadata": {
    "heading_collapsed": true
   },
   "source": [
    "### 3.4.3 Total Charges"
   ]
  },
  {
   "cell_type": "markdown",
   "metadata": {
    "hidden": true
   },
   "source": [
    "There is two measurement of total charges:\n",
    "- Average charges\n",
    "- Total charges\n",
    "\n",
    "Which one makes more sense?\n",
    "\n",
    "Compared with monthly charges, is total charges valuable to be included?"
   ]
  },
  {
   "cell_type": "code",
   "execution_count": null,
   "metadata": {
    "hidden": true
   },
   "outputs": [],
   "source": []
  }
 ],
 "metadata": {
  "kernelspec": {
   "display_name": "Python 3",
   "language": "python",
   "name": "python3"
  },
  "language_info": {
   "codemirror_mode": {
    "name": "ipython",
    "version": 3
   },
   "file_extension": ".py",
   "mimetype": "text/x-python",
   "name": "python",
   "nbconvert_exporter": "python",
   "pygments_lexer": "ipython3",
   "version": "3.8.10"
  },
  "toc": {
   "base_numbering": 1,
   "nav_menu": {
    "height": "465px",
    "width": "232px"
   },
   "number_sections": false,
   "sideBar": true,
   "skip_h1_title": false,
   "title_cell": "Table of Contents",
   "title_sidebar": "Contents",
   "toc_cell": false,
   "toc_position": {},
   "toc_section_display": true,
   "toc_window_display": true
  }
 },
 "nbformat": 4,
 "nbformat_minor": 4
}
